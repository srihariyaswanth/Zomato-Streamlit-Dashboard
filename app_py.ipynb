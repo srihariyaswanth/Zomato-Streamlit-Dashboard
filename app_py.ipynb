{
  "nbformat": 4,
  "nbformat_minor": 0,
  "metadata": {
    "colab": {
      "provenance": [],
      "authorship_tag": "ABX9TyOBSwgjtc8VP/uVbyStycnV",
      "include_colab_link": true
    },
    "kernelspec": {
      "name": "python3",
      "display_name": "Python 3"
    },
    "language_info": {
      "name": "python"
    }
  },
  "cells": [
    {
      "cell_type": "markdown",
      "metadata": {
        "id": "view-in-github",
        "colab_type": "text"
      },
      "source": [
        "<a href=\"https://colab.research.google.com/github/srihariyaswanth/Zomato-Streamlit-Dashboard/blob/main/app_py.ipynb\" target=\"_parent\"><img src=\"https://colab.research.google.com/assets/colab-badge.svg\" alt=\"Open In Colab\"/></a>"
      ]
    },
    {
      "cell_type": "code",
      "execution_count": null,
      "metadata": {
        "id": "scpiTH5dq3_A"
      },
      "outputs": [],
      "source": [
        "import streamlit as st\n",
        "import pandas as pd\n",
        "import seaborn as sns\n",
        "import matplotlib.pyplot as plt\n",
        "\n",
        "# Page config\n",
        "st.set_page_config(page_title=\"Zomato Restaurant Insights\", layout=\"wide\")\n",
        "\n",
        "# Load and clean data\n",
        "df = pd.read_csv(\"Zomato-data-.csv\")\n",
        "df.columns = ['name', 'online_order', 'book_table', 'rate', 'votes', 'approx_cost(for two people)', 'listed_in(type)']\n",
        "\n",
        "df['rate'] = df['rate'].astype(str).str.replace(\"/5\", \"\", regex=False)\n",
        "df['rate'] = pd.to_numeric(df['rate'], errors='coerce')\n",
        "df['online_order'] = df['online_order'].str.strip().str.lower()\n",
        "df['book_table'] = df['book_table'].str.strip().str.lower()\n",
        "df['listed_in(type)'] = df['listed_in(type)'].str.strip()\n",
        "df = df.dropna(subset=['rate', 'approx_cost(for two people)'])\n",
        "\n",
        "# Sidebar filters\n",
        "st.sidebar.title(\"Filter Restaurants\")\n",
        "selected_type = st.sidebar.selectbox(\"Select Restaurant Type\", sorted(df['listed_in(type)'].dropna().unique()))\n",
        "min_rating, max_rating = st.sidebar.slider(\"Select Rating Range\", 0.0, 5.0, (3.0, 5.0), 0.1)\n",
        "order_pref = st.sidebar.radio(\"Online Order Available?\", ['all', 'yes', 'no'])\n",
        "\n",
        "# Apply filters\n",
        "filtered = df[df['listed_in(type)'] == selected_type]\n",
        "filtered = filtered[(filtered['rate'] >= min_rating) & (filtered['rate'] <= max_rating)]\n",
        "if order_pref != 'all':\n",
        "    filtered = filtered[filtered['online_order'] == order_pref]\n",
        "\n",
        "# Dashboard title\n",
        "st.title(\"Zomato Restaurants Data Explorer\")\n",
        "st.markdown(f\"Showing **{len(filtered)}** restaurants of type '**{selected_type}**' with rating between **{min_rating} - {max_rating}**.\")\n",
        "\n",
        "# Metrics\n",
        "col1, col2, col3 = st.columns(3)\n",
        "col1.metric(\"Average Rating\", f\"{filtered['rate'].mean():.2f}\")\n",
        "col2.metric(\"Average Cost for Two\", f\"₹{filtered['approx_cost(for two people)'].mean():.0f}\")\n",
        "col3.metric(\"Total Votes\", f\"{filtered['votes'].sum():,}\")\n",
        "\n",
        "# Top 5 restaurants\n",
        "st.subheader(\"Top 5 Restaurants (by Rating & Votes)\")\n",
        "top5 = filtered[filtered['votes'] > 50].sort_values(by=['rate', 'votes'], ascending=[False, False]).head(5)\n",
        "st.dataframe(top5[['name', 'rate', 'votes', 'approx_cost(for two people)']].reset_index(drop=True))\n",
        "\n",
        "# Plot 1: Rating Distribution\n",
        "st.subheader(\"Rating Distribution\")\n",
        "fig1, ax1 = plt.subplots()\n",
        "sns.histplot(filtered['rate'], bins=10, kde=True, ax=ax1, color='skyblue')\n",
        "st.pyplot(fig1)\n",
        "\n",
        "# Plot 2: Votes vs Rating\n",
        "st.subheader(\"Votes vs Rating\")\n",
        "fig2, ax2 = plt.subplots()\n",
        "sns.scatterplot(data=filtered, x='votes', y='rate', ax=ax2, hue='rate', palette='viridis', alpha=0.7)\n",
        "st.pyplot(fig2)\n",
        "\n",
        "# Plot 3: Cost vs Rating\n",
        "st.subheader(\"Cost vs Rating\")\n",
        "fig3, ax3 = plt.subplots()\n",
        "sns.scatterplot(data=filtered, x='approx_cost(for two people)', y='rate', ax=ax3, hue='rate', palette='coolwarm', alpha=0.7)\n",
        "st.pyplot(fig3)\n"
      ]
    }
  ]
}